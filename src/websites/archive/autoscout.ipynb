{
 "cells": [
  {
   "cell_type": "code",
   "execution_count": 2,
   "id": "initial_id",
   "metadata": {
    "collapsed": true,
    "ExecuteTime": {
     "end_time": "2024-08-03T13:28:27.545737Z",
     "start_time": "2024-08-03T13:28:22.915953Z"
    }
   },
   "outputs": [
    {
     "name": "stderr",
     "output_type": "stream",
     "text": [
      "/Users/Mischa/Library/Mobile Documents/com~apple~CloudDocs/2. Business/1. Data Pioneers/Customer/AssetClassics/Gitlab/venv/lib/python3.9/site-packages/urllib3/__init__.py:35: NotOpenSSLWarning: urllib3 v2 only supports OpenSSL 1.1.1+, currently the 'ssl' module is compiled with 'LibreSSL 2.8.3'. See: https://github.com/urllib3/urllib3/issues/3020\n",
      "  warnings.warn(\n"
     ]
    }
   ],
   "source": [
    "import requests\n",
    "from bs4 import BeautifulSoup\n",
    "import re\n",
    "import pandas as pd"
   ]
  },
  {
   "cell_type": "code",
   "outputs": [],
   "source": [
    "def fetch_page(url):\n",
    "    headers = {\n",
    "        \"User-Agent\": \"Mozilla/5.0 (Windows NT 10.0; Win64; x64) AppleWebKit/537.36 (KHTML, like Gecko) Chrome/91.0.4472.124 Safari/537.36\"\n",
    "    }\n",
    "    response = requests.get(url, headers=headers)\n",
    "    if response.status_code == 200:\n",
    "        return response.text\n",
    "    else:\n",
    "        raise Exception(f\"Failed to load page {url}\")"
   ],
   "metadata": {
    "collapsed": false,
    "ExecuteTime": {
     "end_time": "2024-08-03T13:28:31.267493Z",
     "start_time": "2024-08-03T13:28:31.256765Z"
    }
   },
   "id": "db656818ba971e8a",
   "execution_count": 4
  },
  {
   "cell_type": "code",
   "outputs": [
    {
     "name": "stdout",
     "output_type": "stream",
     "text": [
      "\n",
      "***********\n",
      "<article class=\"cldt-summary-full-item listing-impressions-tracking list-page-item ListItem_article__qyYw7\" data-applied-tier=\"t50\" data-customer-id=\"7407\" data-deliverable=\"unknown\" data-first-registration=\"03-2005\" data-fuel-type=\"b\" data-guid=\"8b969b68-ee77-4f38-9c1b-5b17d9468d05\" data-image-content=\"no-placeholder|0.1958193909674215\" data-is-smyle-eligible=\"false\" data-leads-range=\"some\" data-listing-country=\"b\" data-listing-zip-code=\"8870\" data-make=\"ferrari\" data-mia-level=\"t50\" data-mileage=\"28783\" data-model=\"f430\" data-order-bucket=\"0\" data-otp=\"nfm\" data-ownership-models=\"tr\" data-position=\"1\" data-price=\"134950\" data-price-label=\"unknown\" data-seller-type=\"d\" data-source=\"listpage_search-results\" data-testid=\"list-item\" data-vehicle-type=\"c\" id=\"8b969b68-ee77-4f38-9c1b-5b17d9468d05\"><p class=\"Sponsored_wrapper__R5vwQ\">Sponsored</p><div class=\"ListItem_wrapper__TxHWu\"><div class=\"Gallery_wrapper__iqp3u\"><section class=\"NewGallery_slider__1EDQh\"><div class=\"NewGallery_item__rmDZE\" style=\"transform:translateX(0%)\"><picture class=\"NewGallery_picture__fNsZr\"><source media=\"(min-width: 768px) and (max-width: 1099px) and (-webkit-max-device-pixel-ratio: 1)\" srcset=\"https://prod.pictures.autoscout24.net/listing-images/8b969b68-ee77-4f38-9c1b-5b17d9468d05_b445cfe5-3e38-4669-a956-54a8c99c6234.jpg/250x188.webp\" type=\"image/webp\"/><source media=\"(min-width: 768px) and (max-width: 1099px) and (-webkit-max-device-pixel-ratio: 1)\" srcset=\"https://prod.pictures.autoscout24.net/listing-images/8b969b68-ee77-4f38-9c1b-5b17d9468d05_b445cfe5-3e38-4669-a956-54a8c99c6234.jpg/250x188.jpg\" type=\"image/jpeg\"/><source media=\"(max-width: 767px), (min-width: 1100px), (-webkit-min-device-pixel-ratio: 1.01)\" srcset=\"https://prod.pictures.autoscout24.net/listing-images/8b969b68-ee77-4f38-9c1b-5b17d9468d05_b445cfe5-3e38-4669-a956-54a8c99c6234.jpg/480x360.webp\" type=\"image/webp\"/><source media=\"(max-width: 767px), (min-width: 1100px), (-webkit-min-device-pixel-ratio: 1.01)\" srcset=\"https://prod.pictures.autoscout24.net/listing-images/8b969b68-ee77-4f38-9c1b-5b17d9468d05_b445cfe5-3e38-4669-a956-54a8c99c6234.jpg/480x360.jpg\" type=\"image/jpeg\"/><img alt=\"\" class=\"NewGallery_img__cXZQC\" data-cs-mask=\"true\" data-testid=\"list-gallery-image\" height=\"360\" loading=\"eager\" src=\"https://prod.pictures.autoscout24.net/listing-images/8b969b68-ee77-4f38-9c1b-5b17d9468d05_b445cfe5-3e38-4669-a956-54a8c99c6234.jpg/250x188.webp\" width=\"480\"/></picture></div><div class=\"NewGallery_item__rmDZE\" style=\"transform:translateX(100%)\"></div><div class=\"NewGallery_item__rmDZE\" style=\"transform:translateX(-100%)\"></div><button class=\"NewGallery_btn__yjE4_\" data-testid=\"list-gallery-prev-button\" type=\"button\">Previous</button><button class=\"NewGallery_btn__yjE4_ NewGallery_btn_next__1cGxm\" data-testid=\"list-gallery-next-button\" type=\"button\">Next</button><div class=\"NewGallery_icons__TrF7P\" style=\"--icon-width:50px;--icon-height:36px\"><div class=\"NewGallery_counter__XDJZD\" data-testid=\"list-gallery-image-counter\">1<!-- --> / <!-- -->26</div></div></section></div><div class=\"ListItem_header__J6xlG ListItem_header_new_design__Rvyv_\"><a class=\"ListItem_title__ndA4s ListItem_title_new_design__QIU2b Link_link__Ajn7I\" href=\"/offers/ferrari-f430-ceramic-brakes-carbon-seats-roll-cage-gasoline-red-8b969b68-ee77-4f38-9c1b-5b17d9468d05\"><h2>Ferrari F430<!-- --> <span class=\"ListItem_version__5EWfi\">*** CERAMIC BRAKES / CARBON SEATS / ROLL CAGE ***</span></h2></a></div><div class=\"ListItem_listing__g3sc6\" style=\"grid-template-rows:max-content\"><div class=\"PriceAndSeals_wrapper__BMNaJ\"><p class=\"Price_price__APlgs PriceAndSeals_current_price__ykUpx\" data-testid=\"regular-price\" style='--superscript:\"\"'>€ 134,950.-</p></div><div class=\"VehicleDetailTable_container__XhfV1\"><span class=\"VehicleDetailTable_item__4n35N\" data-testid=\"VehicleDetails-mileage_road\"><svg color=\"currentColor\" height=\"18\" viewbox=\"0 0 24 24\" width=\"18\"><use xlink:href=\"/assets/as24-search-funnel/icons/icons-sprite-8ad85fa2.svg#mileage_road\"></use></svg>28,783 km</span><span class=\"VehicleDetailTable_item__4n35N\" data-testid=\"VehicleDetails-transmission\"><svg color=\"currentColor\" height=\"18\" viewbox=\"0 0 24 24\" width=\"18\"><use xlink:href=\"/assets/as24-search-funnel/icons/icons-sprite-8ad85fa2.svg#transmission\"></use></svg>Automatic</span><span class=\"VehicleDetailTable_item__4n35N\" data-testid=\"VehicleDetails-calendar\"><svg color=\"currentColor\" height=\"18\" viewbox=\"0 0 24 24\" width=\"18\"><use xlink:href=\"/assets/as24-search-funnel/icons/icons-sprite-8ad85fa2.svg#calendar\"></use></svg>03/2005</span><span class=\"VehicleDetailTable_item__4n35N\" data-testid=\"VehicleDetails-gas_pump\"><svg color=\"currentColor\" height=\"18\" viewbox=\"0 0 24 24\" width=\"18\"><use xlink:href=\"/assets/as24-search-funnel/icons/icons-sprite-8ad85fa2.svg#gas_pump\"></use></svg>Gasoline</span><span class=\"VehicleDetailTable_item__4n35N\" data-testid=\"VehicleDetails-speedometer\"><svg color=\"currentColor\" height=\"18\" viewbox=\"0 0 24 24\" width=\"18\"><use xlink:href=\"/assets/as24-search-funnel/icons/icons-sprite-8ad85fa2.svg#speedometer\"></use></svg>360 kW (489 hp)</span></div></div></div><div class=\"SellerInfo_wrapper__XttVo\" data-testid=\"sellerinfo-section\"><img alt=\"\" class=\"SellerInfo_logo__1Tn_W\" decoding=\"async\" loading=\"lazy\" src=\"https://prod.pictures.autoscout24.net/dealer-info/7407-original-508e8d97-7f23-4a7b-a8c5-ace1dec16d2b.png/resize/100x50%3E/quality/90\"><span class=\"SellerInfo_name__nR9JH\" data-cs-mask=\"true\" data-testid=\"sellerinfo-company-name\">AECARS BV</span><span class=\"SellerInfo_address__leRMu\" data-cs-mask=\"true\" data-testid=\"sellerinfo-address\">Alexander Roelens • BE-8870 Izegem</span><a class=\"scr-link SellerInfo_link__uUN4f\" href=\"/lst\" rel=\"noopener\">+ Show more vehicles</a></img></div></article>\n"
     ]
    },
    {
     "ename": "ValueError",
     "evalue": "not enough values to unpack (expected 2, got 1)",
     "output_type": "error",
     "traceback": [
      "\u001B[0;31m---------------------------------------------------------------------------\u001B[0m",
      "\u001B[0;31mValueError\u001B[0m                                Traceback (most recent call last)",
      "Cell \u001B[0;32mIn[7], line 12\u001B[0m\n\u001B[1;32m     10\u001B[0m \u001B[38;5;28mprint\u001B[39m(\u001B[38;5;124m\"\u001B[39m\u001B[38;5;124m***********\u001B[39m\u001B[38;5;124m\"\u001B[39m)\n\u001B[1;32m     11\u001B[0m \u001B[38;5;28mprint\u001B[39m(article)\n\u001B[0;32m---> 12\u001B[0m \u001B[38;5;28;01mfor\u001B[39;00m key, item \u001B[38;5;129;01min\u001B[39;00m article:\n\u001B[1;32m     13\u001B[0m     \u001B[38;5;28mprint\u001B[39m(\u001B[38;5;124m\"\u001B[39m\u001B[38;5;124mkey\u001B[39m\u001B[38;5;124m\"\u001B[39m)\n\u001B[1;32m     14\u001B[0m     \u001B[38;5;28mprint\u001B[39m(item)\n",
      "\u001B[0;31mValueError\u001B[0m: not enough values to unpack (expected 2, got 1)"
     ]
    }
   ],
   "source": [
    "url = \"https://www.autoscout24.com/lst?atype=C&cy=D%2CA%2CB%2CE%2CF%2CI%2CL%2CNL&damaged_listing=exclude&desc=1&fregto=2005&powertype=kw&pricefrom=20000&search_id=gd6zvktyks&sort=age&source=detailsearch&ustate=N%2CU\"\n",
    "html_content = fetch_page(url)\n",
    "soup = BeautifulSoup(html_content, 'html.parser')\n",
    "listings = soup.find_all('div', class_='ListItem_wrapper__TxHWu')\n",
    "articles = soup.find_all('article')\n",
    "#print(listings[0])\n",
    "#print(articles[0].get('data-price'))\n",
    "for article in articles:\n",
    "    print()\n",
    "    print(\"***********\")\n",
    "    print(article)\n",
    "    for key, item in article:\n",
    "        print(\"key\")\n",
    "        print(item)\n",
    "        \n",
    "\n"
   ],
   "metadata": {
    "collapsed": false,
    "ExecuteTime": {
     "end_time": "2024-08-03T13:29:28.869172Z",
     "start_time": "2024-08-03T13:29:28.140651Z"
    }
   },
   "id": "e0ec2ded0fd68094",
   "execution_count": 7
  },
  {
   "cell_type": "code",
   "outputs": [],
   "source": [],
   "metadata": {
    "collapsed": false
   },
   "id": "f05dcb84cfe47ce8"
  }
 ],
 "metadata": {
  "kernelspec": {
   "display_name": "Python 3",
   "language": "python",
   "name": "python3"
  },
  "language_info": {
   "codemirror_mode": {
    "name": "ipython",
    "version": 2
   },
   "file_extension": ".py",
   "mimetype": "text/x-python",
   "name": "python",
   "nbconvert_exporter": "python",
   "pygments_lexer": "ipython2",
   "version": "2.7.6"
  }
 },
 "nbformat": 4,
 "nbformat_minor": 5
}
